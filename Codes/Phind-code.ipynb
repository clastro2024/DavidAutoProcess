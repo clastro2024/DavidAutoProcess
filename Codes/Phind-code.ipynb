{
 "cells": [
  {
   "cell_type": "code",
   "execution_count": null,
   "metadata": {},
   "outputs": [],
   "source": [
    "################################  Storage_Optimization.ipynb  ####################################\n",
    "# Author: Phind\n",
    "# Description: TEST Code\n",
    "# Data: 24-Nov-2024\n",
    "#################################################################################"
   ]
  },
  {
   "cell_type": "code",
   "execution_count": null,
   "metadata": {},
   "outputs": [],
   "source": [
    "import pandas as pd\n",
    "import numpy as np\n"
   ]
  },
  {
   "cell_type": "markdown",
   "metadata": {},
   "source": [
    "# Data Import and Clean"
   ]
  },
  {
   "cell_type": "code",
   "execution_count": null,
   "metadata": {},
   "outputs": [],
   "source": [
    "#### Read FILE:: (AKINS FoMoCo_Piece_Sales_112222_YTD.xlsx) into Dataframe\n",
    "df_Akins = utils.read_excel(AKINS_FOMO_FILE_PATH)\n",
    "df_Akins\n",
    "#utils.print_df(df_Wholesale_Ford) # Print the Dataframe"
   ]
  },
  {
   "cell_type": "code",
   "execution_count": null,
   "metadata": {},
   "outputs": [],
   "source": [
    "#### Read FILE:: (GPARTS Part Measures.xlsx) into Dataframe\n",
    "df_Gparts = utils.read_excel(GPARTS_FILE_PATH)\n",
    "utils.print_df(df_Gparts) # Print the Dataframe\n",
    "\n",
    "print(df_Gparts[df_Gparts[\"Prod Att - Length\"] == 0].shape[0]) # Print the Rows with 0 Dimensions"
   ]
  },
  {
   "cell_type": "code",
   "execution_count": null,
   "metadata": {},
   "outputs": [],
   "source": [
    "#### Read FILE:: (Wholesale JAN_Oct_Parts_Ranking_Counter_Invoices_All_Brands.xlsx) into Dataframe\n",
    "df_Wholesale = utils.read_excel(WHOLESALE_FILE_PATH)\n",
    "\n",
    "# Clean the Wholesale Dataframe\n",
    "df_Wholesale = df_Wholesale.drop(columns=[col for col in df_Wholesale.columns if 'Unnamed' in col], inplace=False)\n",
    "df_Wholesale_Ford = df_Wholesale[df_Wholesale['Vendor'] == 'FOR'] # Put only 'Ford' Brand Data into another DF\n",
    "\n",
    "utils.print_df(df_Wholesale_Ford) # Print the Dataframe"
   ]
  },
  {
   "cell_type": "code",
   "execution_count": null,
   "metadata": {},
   "outputs": [],
   "source": [
    "#### Read FILE:: (Service JAN_Oct_Parts_Ranking_ROs_All_Brands.xlsx) into Dataframe\n",
    "df_Service = utils.read_excel(SERVICE_FILE_PATH)\n",
    "\n",
    "# Clean the Service Dataframe\n",
    "df_Service = df_Service.drop(columns=[col for col in df_Service.columns if 'Unnamed' in col], inplace=False)\n",
    "df_Service_Ford = df_Service[df_Service['Vendor'] == 'FOR'] # Put only 'Ford' Brand Data into another DF\n",
    "\n",
    "utils.print_df(df_Service_Ford, 100) # Print the Dataframe"
   ]
  },
  {
   "cell_type": "code",
   "execution_count": null,
   "metadata": {},
   "outputs": [],
   "source": []
  },
  {
   "cell_type": "code",
   "execution_count": null,
   "metadata": {},
   "outputs": [],
   "source": [
    "high_density_drawers = {\n",
    "    '36\":4': {'width': 9, 'depth': 24},\n",
    "    '48\":4': {'width': 12, 'depth': 24},\n",
    "    '48\":6': {'width': 8, 'depth': 24}\n",
    "}\n",
    "\n",
    "clip_shelving = {\n",
    "    '12\":0': {'height': 15, 'depth': 12, 'width': 36},\n",
    "    '18\":0': {'height': 15, 'depth': 18, 'width': 48},\n",
    "    '24\":0': {'height': 15, 'depth': 24, 'width': 48}\n",
    "}\n",
    "\n",
    "bulk_storage = {\n",
    "    '24\":0': {'height': 12, 'depth': 24, 'width': 48},\n",
    "    '36\":0': {'height': 12, 'depth': 36, 'width': 72},\n",
    "    '42\":0': {'height': 12, 'depth': 42, 'width': 72},\n",
    "    '48\":0': {'height': 12, 'depth': 48, 'width': 96},\n",
    "    '72\":0': {'height': 12, 'depth': 72, 'width': 96}\n",
    "}\n"
   ]
  },
  {
   "cell_type": "markdown",
   "metadata": {},
   "source": [
    "##### Step 3: Implement the storage assignment function\n",
    "##### Now, let's create a function that assigns parts to storage based on their dimensions and sales frequency zone:"
   ]
  },
  {
   "cell_type": "code",
   "execution_count": null,
   "metadata": {},
   "outputs": [],
   "source": [
    "def assign_storage(part_dimensions, part_height, part_width, part_depth, sales_frequency):\n",
    "    zones = ['Red Hot', 'Orange', 'Yellow', 'Green', 'Blue']\n",
    "    zone_index = int(sales_frequency * 4)  # Assuming 0-1 scale for sales frequency\n",
    "    \n",
    "    if part_height <= 6 and part_width <= 12 and part_depth <= 24:\n",
    "        return 'High-Density Drawer'\n",
    "    \n",
    "    if part_height <= 15:\n",
    "        for size, specs in clip_shelving.items():\n",
    "            if part_width <= specs['width'] and part_depth <= specs['depth']:\n",
    "                return f'Clip Shelving {size}'\n",
    "    \n",
    "    if part_height >= 12:\n",
    "        for size, specs in bulk_storage.items():\n",
    "            if part_width <= specs['width'] and part_depth <= specs['depth']:\n",
    "                return f'Bulk Storage {size}'\n",
    "    \n",
    "    # Specialty storage (Battery, Tire, Hanging)\n",
    "    if 'battery' in part_name.lower():\n",
    "        return 'Battery Storage'\n",
    "    elif 'tire' in part_name.lower():\n",
    "        tire_diameter = float(part_name.split(' ')[0])  # Assuming diameter is first number\n",
    "        if tire_diameter <= 28:\n",
    "            return 'Tire Carousel (28\" or less)'\n",
    "        elif 28 < tire_diameter <= 33:\n",
    "            return 'Tire Carousel (28-33\")'\n",
    "        else:\n",
    "            return 'Tire Carousel (>33\")'\n",
    "    elif part_width > 24 and part_height < 4:\n",
    "        return 'Hanging Storage'\n",
    "    \n",
    "    # Bumper Cover Storage\n",
    "    if 'bumper cover' in part_name.lower():\n",
    "        return 'Bumper Cover Storage'\n",
    "    \n",
    "    # Default assignment\n",
    "    return 'Other Storage'\n"
   ]
  },
  {
   "cell_type": "code",
   "execution_count": null,
   "metadata": {},
   "outputs": [],
   "source": []
  },
  {
   "cell_type": "markdown",
   "metadata": {},
   "source": [
    "# Data Analysis\n"
   ]
  },
  {
   "cell_type": "code",
   "execution_count": null,
   "metadata": {},
   "outputs": [],
   "source": [
    "## Find Rows with 0 in either Dimensions\n",
    "\n",
    "# Print the Rows with 0 Dimensions\n",
    "print(f\"Numer of Rows with 0 Dimensions: {df_Gparts[df_Gparts[\"Prod Att - Length\"] == 0].shape[0]}, {(df_Gparts[df_Gparts[\"Prod Att - Length\"] == 0].shape[0]/df_Gparts.shape[0])*100}%\") \n",
    "utils.print_df(df_Gparts[df_Gparts[\"Prod Att - Length\"] == 0], 10) # Print top 10 Rows with 0 Dimensions"
   ]
  },
  {
   "cell_type": "code",
   "execution_count": null,
   "metadata": {},
   "outputs": [],
   "source": []
  },
  {
   "cell_type": "markdown",
   "metadata": {},
   "source": [
    "# Data Processing & Calculation"
   ]
  },
  {
   "cell_type": "code",
   "execution_count": null,
   "metadata": {},
   "outputs": [],
   "source": [
    "## Sort the 'Wholesale..' DF by 'Sort Pcs' Columns in Descending order\n",
    "# Sold Pcs/Sold = Sales Frequency\n",
    "\n",
    "df_Wholesale_Ford[\"Total Sold\"] = df_Wholesale_Ford[\"Sold\"] +  df_Wholesale_Ford[\"Sold.1\"]\n",
    "df_Wholesale_Ford.sort_values(['Total Sold'], ascending=False, inplace=True)"
   ]
  },
  {
   "cell_type": "code",
   "execution_count": null,
   "metadata": {},
   "outputs": [],
   "source": [
    "df_Wholesale_Ford"
   ]
  },
  {
   "cell_type": "code",
   "execution_count": null,
   "metadata": {},
   "outputs": [],
   "source": [
    "data = []\n",
    "sum = 0\n",
    "totalSoldPCs = int(df_Wholesale_Ford[\"Total Sold\"].sum())\n",
    "print(sum, totalSoldPCs)\n",
    "for i in range(df_Wholesale_Ford.shape[0]):\n",
    "    zone = \"\"\n",
    "    if sum/totalSoldPCs <= 0.2:\n",
    "        zone = \"Red Hot Zone\"\n",
    "    if sum/totalSoldPCs > 0.2 and sum/totalSoldPCs <= 0.4:\n",
    "        zone = \"Orange Zone\"\n",
    "    if sum/totalSoldPCs > 0.4 and sum/totalSoldPCs <= 0.6:\n",
    "        zone = \"Yellow Zone\"\n",
    "    if sum/totalSoldPCs > 0.6 and sum/totalSoldPCs <= 0.8:\n",
    "        zone = \"Green Zone\"\n",
    "    if sum/totalSoldPCs > 0.8:\n",
    "        zone = \"Blue Zone\"\n",
    "    data.append([df_Wholesale_Ford[\"Part Number\"].iloc[i], zone, sum])\n",
    "    sum = sum + df_Wholesale_Ford[\"Total Sold\"].iloc[i]\n",
    "df_zones = pd.DataFrame(data)\n",
    "utils.print_df(df_zones,None)\n",
    "\n",
    "with open(\"htt.txt\", \"w\") as f:\n",
    "    f.write(df_zones.to_string())"
   ]
  },
  {
   "cell_type": "code",
   "execution_count": null,
   "metadata": {},
   "outputs": [],
   "source": []
  }
 ],
 "metadata": {
  "kernelspec": {
   "display_name": "Python 3",
   "language": "python",
   "name": "python3"
  },
  "language_info": {
   "codemirror_mode": {
    "name": "ipython",
    "version": 3
   },
   "file_extension": ".py",
   "mimetype": "text/x-python",
   "name": "python",
   "nbconvert_exporter": "python",
   "pygments_lexer": "ipython3",
   "version": "3.12.5"
  }
 },
 "nbformat": 4,
 "nbformat_minor": 2
}
